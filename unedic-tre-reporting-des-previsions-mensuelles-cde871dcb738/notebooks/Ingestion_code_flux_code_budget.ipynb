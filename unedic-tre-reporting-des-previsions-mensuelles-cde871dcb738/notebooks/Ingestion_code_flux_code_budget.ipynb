{
 "cells": [
  {
   "cell_type": "code",
   "execution_count": 1,
   "metadata": {},
   "outputs": [],
   "source": [
    "%config Completer.use_jedi = False"
   ]
  },
  {
   "cell_type": "code",
   "execution_count": 2,
   "metadata": {},
   "outputs": [],
   "source": [
    "import sys \n",
    "sys.path.append('/home/cdsw/code')\n",
    "import imp\n",
    "from utils import *\n",
    "from dateutil.parser import parse\n",
    "import numpy as np\n",
    "import math\n",
    "from pyspark.sql import SparkSession\n",
    "import openpyxl\n",
    "import pandas as pd\n",
    "import dateutil\n",
    "from dateutil.parser import parse\n",
    "import warnings\n",
    "warnings.filterwarnings(\"ignore\")"
   ]
  },
  {
   "cell_type": "code",
   "execution_count": 3,
   "metadata": {
    "scrolled": true
   },
   "outputs": [],
   "source": [
    "emplacement = \"/mnt/Plateforme/1 - Collecte des données sources auprès des OP/19 - Tresorerie\"\n",
    "df = pd.read_excel(emplacement + '/Codes flux - codes budget - Libellés.xlsx', engine = 'openpyxl')"
   ]
  },
  {
   "cell_type": "code",
   "execution_count": 4,
   "metadata": {},
   "outputs": [],
   "source": [
    "applicationName = \"chargement_code_flux_code_budget\"\n",
    "spark = SparkSession\\\n",
    "        .builder\\\n",
    "        .appName(applicationName)\\\n",
    "        .getOrCreate()"
   ]
  },
  {
   "cell_type": "code",
   "execution_count": 5,
   "metadata": {
    "scrolled": true
   },
   "outputs": [],
   "source": [
    "df.columns = [traiter_string(s).upper() for s in df.columns]"
   ]
  },
  {
   "cell_type": "code",
   "execution_count": 6,
   "metadata": {
    "scrolled": true
   },
   "outputs": [],
   "source": [
    "df = df[df.columns].astype(str).replace(to_replace='\\n', value=' ', regex=True)\n",
    "spark_data_frame = spark.createDataFrame(df)"
   ]
  },
  {
   "cell_type": "code",
   "execution_count": 7,
   "metadata": {},
   "outputs": [
    {
     "name": "stdout",
     "output_type": "stream",
     "text": [
      "root\n",
      " |-- CODE_FLUX: string (nullable = true)\n",
      " |-- LIBELLE: string (nullable = true)\n",
      " |-- CODE_BUDGETAIRE: string (nullable = true)\n",
      "\n"
     ]
    }
   ],
   "source": [
    "spark_data_frame.printSchema()"
   ]
  },
  {
   "cell_type": "code",
   "execution_count": 8,
   "metadata": {},
   "outputs": [],
   "source": [
    "from unedic_data_pipeline.load import * "
   ]
  },
  {
   "cell_type": "code",
   "execution_count": 9,
   "metadata": {},
   "outputs": [
    {
     "data": {
      "text/plain": [
       "0"
      ]
     },
     "execution_count": 9,
     "metadata": {},
     "output_type": "execute_result"
    }
   ],
   "source": [
    "spark_session = spark \n",
    "depot = \"/data/raw_layer\"\n",
    "db_name = \"raw_reporting_treso\"\n",
    "table_name=\"CodeFlux_CodeBudget_Libelles\"\n",
    "\n",
    "create_table(spark_session,depot,spark_data_frame,db_name,table_name,logger=None)"
   ]
  },
  {
   "cell_type": "code",
   "execution_count": null,
   "metadata": {},
   "outputs": [],
   "source": []
  }
 ],
 "metadata": {
  "kernelspec": {
   "display_name": "Python 3",
   "language": "python",
   "name": "python3"
  },
  "language_info": {
   "codemirror_mode": {
    "name": "ipython",
    "version": 3
   },
   "file_extension": ".py",
   "mimetype": "text/x-python",
   "name": "python",
   "nbconvert_exporter": "python",
   "pygments_lexer": "ipython3",
   "version": "3.6.10"
  }
 },
 "nbformat": 4,
 "nbformat_minor": 4
}
